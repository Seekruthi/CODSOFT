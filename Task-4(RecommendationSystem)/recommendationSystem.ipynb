{
  "cells": [
    {
      "cell_type": "markdown",
      "source": [
        " **Import necessary libraries**"
      ],
      "metadata": {
        "id": "AqOK8GR09byo"
      }
    },
    {
      "cell_type": "code",
      "execution_count": null,
      "metadata": {
        "id": "5kgVExk4EDJN"
      },
      "outputs": [],
      "source": [
        "import pandas as pd\n",
        "import numpy as np\n",
        "from sklearn.preprocessing import LabelEncoder\n",
        "import matplotlib.pyplot as plt\n",
        "import seaborn as sns\n",
        "from sklearn.metrics.pairwise import cosine_similarity\n",
        "from sklearn.feature_extraction.text import TfidfVectorizer\n",
        "from nltk.stem import PorterStemmer\n",
        "import pickle\n"
      ]
    },
    {
      "cell_type": "markdown",
      "source": [
        " **Loading datasets**"
      ],
      "metadata": {
        "id": "IfKwNU5E-CIA"
      }
    },
    {
      "cell_type": "code",
      "execution_count": null,
      "metadata": {
        "id": "PXSz9ExxEC_-"
      },
      "outputs": [],
      "source": [
        "movies = pd.read_csv(\"/content/movies.csv\")\n",
        "ratings = pd.read_csv(\"/content/ratings.csv\")"
      ]
    },
    {
      "cell_type": "markdown",
      "source": [
        "**Merging datasets**"
      ],
      "metadata": {
        "id": "PbQWyvq0-Qv1"
      }
    },
    {
      "cell_type": "code",
      "execution_count": null,
      "metadata": {
        "id": "7unBtHv5ECzu"
      },
      "outputs": [],
      "source": [
        "data = pd.merge(movies, ratings, on='movieId')"
      ]
    },
    {
      "cell_type": "code",
      "source": [
        "data.head()"
      ],
      "metadata": {
        "colab": {
          "base_uri": "https://localhost:8080/",
          "height": 206
        },
        "id": "NBvI7vs2kljh",
        "outputId": "29bf52f7-a200-4e92-8d6c-7840e3fe2c24"
      },
      "execution_count": null,
      "outputs": [
        {
          "output_type": "execute_result",
          "data": {
            "text/plain": [
              "   movieId                                             title  \\\n",
              "0     8983  House of Flying Daggers (Shi mian mai fu) (2004)   \n",
              "1     5013                               Gosford Park (2001)   \n",
              "2      318                  Shawshank Redemption, The (1994)   \n",
              "3     1976                 Friday the 13th Part 3: 3D (1982)   \n",
              "4      216                              Billy Madison (1995)   \n",
              "\n",
              "                 genres  userId  rating   timestamp  \n",
              "0  Action|Drama|Romance  113150     4.0  1453297690  \n",
              "1  Comedy|Drama|Mystery   44147     4.0  1107142234  \n",
              "2           Crime|Drama   15958     4.0  1523508853  \n",
              "3                Horror   66855     1.0  1013405997  \n",
              "4                Comedy   57640     3.0   975271323  "
            ],
            "text/html": [
              "\n",
              "  <div id=\"df-fcfed0a8-774b-4fce-916d-c6521a61649e\" class=\"colab-df-container\">\n",
              "    <div>\n",
              "<style scoped>\n",
              "    .dataframe tbody tr th:only-of-type {\n",
              "        vertical-align: middle;\n",
              "    }\n",
              "\n",
              "    .dataframe tbody tr th {\n",
              "        vertical-align: top;\n",
              "    }\n",
              "\n",
              "    .dataframe thead th {\n",
              "        text-align: right;\n",
              "    }\n",
              "</style>\n",
              "<table border=\"1\" class=\"dataframe\">\n",
              "  <thead>\n",
              "    <tr style=\"text-align: right;\">\n",
              "      <th></th>\n",
              "      <th>movieId</th>\n",
              "      <th>title</th>\n",
              "      <th>genres</th>\n",
              "      <th>userId</th>\n",
              "      <th>rating</th>\n",
              "      <th>timestamp</th>\n",
              "    </tr>\n",
              "  </thead>\n",
              "  <tbody>\n",
              "    <tr>\n",
              "      <th>0</th>\n",
              "      <td>8983</td>\n",
              "      <td>House of Flying Daggers (Shi mian mai fu) (2004)</td>\n",
              "      <td>Action|Drama|Romance</td>\n",
              "      <td>113150</td>\n",
              "      <td>4.0</td>\n",
              "      <td>1453297690</td>\n",
              "    </tr>\n",
              "    <tr>\n",
              "      <th>1</th>\n",
              "      <td>5013</td>\n",
              "      <td>Gosford Park (2001)</td>\n",
              "      <td>Comedy|Drama|Mystery</td>\n",
              "      <td>44147</td>\n",
              "      <td>4.0</td>\n",
              "      <td>1107142234</td>\n",
              "    </tr>\n",
              "    <tr>\n",
              "      <th>2</th>\n",
              "      <td>318</td>\n",
              "      <td>Shawshank Redemption, The (1994)</td>\n",
              "      <td>Crime|Drama</td>\n",
              "      <td>15958</td>\n",
              "      <td>4.0</td>\n",
              "      <td>1523508853</td>\n",
              "    </tr>\n",
              "    <tr>\n",
              "      <th>3</th>\n",
              "      <td>1976</td>\n",
              "      <td>Friday the 13th Part 3: 3D (1982)</td>\n",
              "      <td>Horror</td>\n",
              "      <td>66855</td>\n",
              "      <td>1.0</td>\n",
              "      <td>1013405997</td>\n",
              "    </tr>\n",
              "    <tr>\n",
              "      <th>4</th>\n",
              "      <td>216</td>\n",
              "      <td>Billy Madison (1995)</td>\n",
              "      <td>Comedy</td>\n",
              "      <td>57640</td>\n",
              "      <td>3.0</td>\n",
              "      <td>975271323</td>\n",
              "    </tr>\n",
              "  </tbody>\n",
              "</table>\n",
              "</div>\n",
              "    <div class=\"colab-df-buttons\">\n",
              "\n",
              "  <div class=\"colab-df-container\">\n",
              "    <button class=\"colab-df-convert\" onclick=\"convertToInteractive('df-fcfed0a8-774b-4fce-916d-c6521a61649e')\"\n",
              "            title=\"Convert this dataframe to an interactive table.\"\n",
              "            style=\"display:none;\">\n",
              "\n",
              "  <svg xmlns=\"http://www.w3.org/2000/svg\" height=\"24px\" viewBox=\"0 -960 960 960\">\n",
              "    <path d=\"M120-120v-720h720v720H120Zm60-500h600v-160H180v160Zm220 220h160v-160H400v160Zm0 220h160v-160H400v160ZM180-400h160v-160H180v160Zm440 0h160v-160H620v160ZM180-180h160v-160H180v160Zm440 0h160v-160H620v160Z\"/>\n",
              "  </svg>\n",
              "    </button>\n",
              "\n",
              "  <style>\n",
              "    .colab-df-container {\n",
              "      display:flex;\n",
              "      gap: 12px;\n",
              "    }\n",
              "\n",
              "    .colab-df-convert {\n",
              "      background-color: #E8F0FE;\n",
              "      border: none;\n",
              "      border-radius: 50%;\n",
              "      cursor: pointer;\n",
              "      display: none;\n",
              "      fill: #1967D2;\n",
              "      height: 32px;\n",
              "      padding: 0 0 0 0;\n",
              "      width: 32px;\n",
              "    }\n",
              "\n",
              "    .colab-df-convert:hover {\n",
              "      background-color: #E2EBFA;\n",
              "      box-shadow: 0px 1px 2px rgba(60, 64, 67, 0.3), 0px 1px 3px 1px rgba(60, 64, 67, 0.15);\n",
              "      fill: #174EA6;\n",
              "    }\n",
              "\n",
              "    .colab-df-buttons div {\n",
              "      margin-bottom: 4px;\n",
              "    }\n",
              "\n",
              "    [theme=dark] .colab-df-convert {\n",
              "      background-color: #3B4455;\n",
              "      fill: #D2E3FC;\n",
              "    }\n",
              "\n",
              "    [theme=dark] .colab-df-convert:hover {\n",
              "      background-color: #434B5C;\n",
              "      box-shadow: 0px 1px 3px 1px rgba(0, 0, 0, 0.15);\n",
              "      filter: drop-shadow(0px 1px 2px rgba(0, 0, 0, 0.3));\n",
              "      fill: #FFFFFF;\n",
              "    }\n",
              "  </style>\n",
              "\n",
              "    <script>\n",
              "      const buttonEl =\n",
              "        document.querySelector('#df-fcfed0a8-774b-4fce-916d-c6521a61649e button.colab-df-convert');\n",
              "      buttonEl.style.display =\n",
              "        google.colab.kernel.accessAllowed ? 'block' : 'none';\n",
              "\n",
              "      async function convertToInteractive(key) {\n",
              "        const element = document.querySelector('#df-fcfed0a8-774b-4fce-916d-c6521a61649e');\n",
              "        const dataTable =\n",
              "          await google.colab.kernel.invokeFunction('convertToInteractive',\n",
              "                                                    [key], {});\n",
              "        if (!dataTable) return;\n",
              "\n",
              "        const docLinkHtml = 'Like what you see? Visit the ' +\n",
              "          '<a target=\"_blank\" href=https://colab.research.google.com/notebooks/data_table.ipynb>data table notebook</a>'\n",
              "          + ' to learn more about interactive tables.';\n",
              "        element.innerHTML = '';\n",
              "        dataTable['output_type'] = 'display_data';\n",
              "        await google.colab.output.renderOutput(dataTable, element);\n",
              "        const docLink = document.createElement('div');\n",
              "        docLink.innerHTML = docLinkHtml;\n",
              "        element.appendChild(docLink);\n",
              "      }\n",
              "    </script>\n",
              "  </div>\n",
              "\n",
              "\n",
              "<div id=\"df-8eb3a220-c442-4d31-bd8e-cf80eb046d58\">\n",
              "  <button class=\"colab-df-quickchart\" onclick=\"quickchart('df-8eb3a220-c442-4d31-bd8e-cf80eb046d58')\"\n",
              "            title=\"Suggest charts\"\n",
              "            style=\"display:none;\">\n",
              "\n",
              "<svg xmlns=\"http://www.w3.org/2000/svg\" height=\"24px\"viewBox=\"0 0 24 24\"\n",
              "     width=\"24px\">\n",
              "    <g>\n",
              "        <path d=\"M19 3H5c-1.1 0-2 .9-2 2v14c0 1.1.9 2 2 2h14c1.1 0 2-.9 2-2V5c0-1.1-.9-2-2-2zM9 17H7v-7h2v7zm4 0h-2V7h2v10zm4 0h-2v-4h2v4z\"/>\n",
              "    </g>\n",
              "</svg>\n",
              "  </button>\n",
              "\n",
              "<style>\n",
              "  .colab-df-quickchart {\n",
              "      --bg-color: #E8F0FE;\n",
              "      --fill-color: #1967D2;\n",
              "      --hover-bg-color: #E2EBFA;\n",
              "      --hover-fill-color: #174EA6;\n",
              "      --disabled-fill-color: #AAA;\n",
              "      --disabled-bg-color: #DDD;\n",
              "  }\n",
              "\n",
              "  [theme=dark] .colab-df-quickchart {\n",
              "      --bg-color: #3B4455;\n",
              "      --fill-color: #D2E3FC;\n",
              "      --hover-bg-color: #434B5C;\n",
              "      --hover-fill-color: #FFFFFF;\n",
              "      --disabled-bg-color: #3B4455;\n",
              "      --disabled-fill-color: #666;\n",
              "  }\n",
              "\n",
              "  .colab-df-quickchart {\n",
              "    background-color: var(--bg-color);\n",
              "    border: none;\n",
              "    border-radius: 50%;\n",
              "    cursor: pointer;\n",
              "    display: none;\n",
              "    fill: var(--fill-color);\n",
              "    height: 32px;\n",
              "    padding: 0;\n",
              "    width: 32px;\n",
              "  }\n",
              "\n",
              "  .colab-df-quickchart:hover {\n",
              "    background-color: var(--hover-bg-color);\n",
              "    box-shadow: 0 1px 2px rgba(60, 64, 67, 0.3), 0 1px 3px 1px rgba(60, 64, 67, 0.15);\n",
              "    fill: var(--button-hover-fill-color);\n",
              "  }\n",
              "\n",
              "  .colab-df-quickchart-complete:disabled,\n",
              "  .colab-df-quickchart-complete:disabled:hover {\n",
              "    background-color: var(--disabled-bg-color);\n",
              "    fill: var(--disabled-fill-color);\n",
              "    box-shadow: none;\n",
              "  }\n",
              "\n",
              "  .colab-df-spinner {\n",
              "    border: 2px solid var(--fill-color);\n",
              "    border-color: transparent;\n",
              "    border-bottom-color: var(--fill-color);\n",
              "    animation:\n",
              "      spin 1s steps(1) infinite;\n",
              "  }\n",
              "\n",
              "  @keyframes spin {\n",
              "    0% {\n",
              "      border-color: transparent;\n",
              "      border-bottom-color: var(--fill-color);\n",
              "      border-left-color: var(--fill-color);\n",
              "    }\n",
              "    20% {\n",
              "      border-color: transparent;\n",
              "      border-left-color: var(--fill-color);\n",
              "      border-top-color: var(--fill-color);\n",
              "    }\n",
              "    30% {\n",
              "      border-color: transparent;\n",
              "      border-left-color: var(--fill-color);\n",
              "      border-top-color: var(--fill-color);\n",
              "      border-right-color: var(--fill-color);\n",
              "    }\n",
              "    40% {\n",
              "      border-color: transparent;\n",
              "      border-right-color: var(--fill-color);\n",
              "      border-top-color: var(--fill-color);\n",
              "    }\n",
              "    60% {\n",
              "      border-color: transparent;\n",
              "      border-right-color: var(--fill-color);\n",
              "    }\n",
              "    80% {\n",
              "      border-color: transparent;\n",
              "      border-right-color: var(--fill-color);\n",
              "      border-bottom-color: var(--fill-color);\n",
              "    }\n",
              "    90% {\n",
              "      border-color: transparent;\n",
              "      border-bottom-color: var(--fill-color);\n",
              "    }\n",
              "  }\n",
              "</style>\n",
              "\n",
              "  <script>\n",
              "    async function quickchart(key) {\n",
              "      const quickchartButtonEl =\n",
              "        document.querySelector('#' + key + ' button');\n",
              "      quickchartButtonEl.disabled = true;  // To prevent multiple clicks.\n",
              "      quickchartButtonEl.classList.add('colab-df-spinner');\n",
              "      try {\n",
              "        const charts = await google.colab.kernel.invokeFunction(\n",
              "            'suggestCharts', [key], {});\n",
              "      } catch (error) {\n",
              "        console.error('Error during call to suggestCharts:', error);\n",
              "      }\n",
              "      quickchartButtonEl.classList.remove('colab-df-spinner');\n",
              "      quickchartButtonEl.classList.add('colab-df-quickchart-complete');\n",
              "    }\n",
              "    (() => {\n",
              "      let quickchartButtonEl =\n",
              "        document.querySelector('#df-8eb3a220-c442-4d31-bd8e-cf80eb046d58 button');\n",
              "      quickchartButtonEl.style.display =\n",
              "        google.colab.kernel.accessAllowed ? 'block' : 'none';\n",
              "    })();\n",
              "  </script>\n",
              "</div>\n",
              "\n",
              "    </div>\n",
              "  </div>\n"
            ],
            "application/vnd.google.colaboratory.intrinsic+json": {
              "type": "dataframe",
              "variable_name": "data",
              "summary": "{\n  \"name\": \"data\",\n  \"rows\": 19568,\n  \"fields\": [\n    {\n      \"column\": \"movieId\",\n      \"properties\": {\n        \"dtype\": \"number\",\n        \"std\": 39288,\n        \"min\": 1,\n        \"max\": 205992,\n        \"num_unique_values\": 5088,\n        \"samples\": [\n          2137,\n          1411,\n          158\n        ],\n        \"semantic_type\": \"\",\n        \"description\": \"\"\n      }\n    },\n    {\n      \"column\": \"title\",\n      \"properties\": {\n        \"dtype\": \"category\",\n        \"num_unique_values\": 5088,\n        \"samples\": [\n          \"Charlotte's Web (1973)\",\n          \"Hamlet (1996)\",\n          \"Casper (1995)\"\n        ],\n        \"semantic_type\": \"\",\n        \"description\": \"\"\n      }\n    },\n    {\n      \"column\": \"genres\",\n      \"properties\": {\n        \"dtype\": \"category\",\n        \"num_unique_values\": 716,\n        \"samples\": [\n          \"Action|Adventure|Drama|Fantasy|Mystery|IMAX\",\n          \"Action|Drama|Thriller|War\",\n          \"Documentary\"\n        ],\n        \"semantic_type\": \"\",\n        \"description\": \"\"\n      }\n    },\n    {\n      \"column\": \"userId\",\n      \"properties\": {\n        \"dtype\": \"number\",\n        \"std\": 46848,\n        \"min\": 2,\n        \"max\": 162534,\n        \"num_unique_values\": 16348,\n        \"samples\": [\n          28678,\n          117114,\n          113135\n        ],\n        \"semantic_type\": \"\",\n        \"description\": \"\"\n      }\n    },\n    {\n      \"column\": \"rating\",\n      \"properties\": {\n        \"dtype\": \"number\",\n        \"std\": 1.0620528325024865,\n        \"min\": 0.5,\n        \"max\": 5.0,\n        \"num_unique_values\": 10,\n        \"samples\": [\n          1.5,\n          1.0,\n          4.5\n        ],\n        \"semantic_type\": \"\",\n        \"description\": \"\"\n      }\n    },\n    {\n      \"column\": \"timestamp\",\n      \"properties\": {\n        \"dtype\": \"number\",\n        \"std\": 226837583,\n        \"min\": 828361329,\n        \"max\": 1574112360,\n        \"num_unique_values\": 19550,\n        \"samples\": [\n          974503671,\n          1114663700,\n          846333196\n        ],\n        \"semantic_type\": \"\",\n        \"description\": \"\"\n      }\n    }\n  ]\n}"
            }
          },
          "metadata": {},
          "execution_count": 6
        }
      ]
    },
    {
      "cell_type": "markdown",
      "source": [
        "#**Data Preprocessing**"
      ],
      "metadata": {
        "id": "f7m51KY3-grz"
      }
    },
    {
      "cell_type": "code",
      "execution_count": null,
      "metadata": {
        "id": "EO3DiD6QJfYi",
        "colab": {
          "base_uri": "https://localhost:8080/",
          "height": 272
        },
        "outputId": "dc83b687-21e6-4871-f444-f7735c7cf9a6"
      },
      "outputs": [
        {
          "output_type": "execute_result",
          "data": {
            "text/plain": [
              "movieId      19568\n",
              "title        19568\n",
              "genres       19568\n",
              "userId       19568\n",
              "rating       19568\n",
              "timestamp    19568\n",
              "dtype: int64"
            ],
            "text/html": [
              "<div>\n",
              "<style scoped>\n",
              "    .dataframe tbody tr th:only-of-type {\n",
              "        vertical-align: middle;\n",
              "    }\n",
              "\n",
              "    .dataframe tbody tr th {\n",
              "        vertical-align: top;\n",
              "    }\n",
              "\n",
              "    .dataframe thead th {\n",
              "        text-align: right;\n",
              "    }\n",
              "</style>\n",
              "<table border=\"1\" class=\"dataframe\">\n",
              "  <thead>\n",
              "    <tr style=\"text-align: right;\">\n",
              "      <th></th>\n",
              "      <th>0</th>\n",
              "    </tr>\n",
              "  </thead>\n",
              "  <tbody>\n",
              "    <tr>\n",
              "      <th>movieId</th>\n",
              "      <td>19568</td>\n",
              "    </tr>\n",
              "    <tr>\n",
              "      <th>title</th>\n",
              "      <td>19568</td>\n",
              "    </tr>\n",
              "    <tr>\n",
              "      <th>genres</th>\n",
              "      <td>19568</td>\n",
              "    </tr>\n",
              "    <tr>\n",
              "      <th>userId</th>\n",
              "      <td>19568</td>\n",
              "    </tr>\n",
              "    <tr>\n",
              "      <th>rating</th>\n",
              "      <td>19568</td>\n",
              "    </tr>\n",
              "    <tr>\n",
              "      <th>timestamp</th>\n",
              "      <td>19568</td>\n",
              "    </tr>\n",
              "  </tbody>\n",
              "</table>\n",
              "</div><br><label><b>dtype:</b> int64</label>"
            ]
          },
          "metadata": {},
          "execution_count": 7
        }
      ],
      "source": [
        "data.count()"
      ]
    },
    {
      "cell_type": "markdown",
      "source": [
        "**Checking for missing values**"
      ],
      "metadata": {
        "id": "XOOAWSSA_cDl"
      }
    },
    {
      "cell_type": "code",
      "execution_count": null,
      "metadata": {
        "colab": {
          "base_uri": "https://localhost:8080/",
          "height": 89
        },
        "id": "w4Yxt8-YKAjj",
        "outputId": "9230419e-7309-4554-9532-15bdc9ef7483"
      },
      "outputs": [
        {
          "output_type": "execute_result",
          "data": {
            "text/plain": [
              "Empty DataFrame\n",
              "Columns: [movieId, title, genres, userId, rating, timestamp]\n",
              "Index: []"
            ],
            "text/html": [
              "\n",
              "  <div id=\"df-376e905b-5e6a-4688-931d-839b14e6daeb\" class=\"colab-df-container\">\n",
              "    <div>\n",
              "<style scoped>\n",
              "    .dataframe tbody tr th:only-of-type {\n",
              "        vertical-align: middle;\n",
              "    }\n",
              "\n",
              "    .dataframe tbody tr th {\n",
              "        vertical-align: top;\n",
              "    }\n",
              "\n",
              "    .dataframe thead th {\n",
              "        text-align: right;\n",
              "    }\n",
              "</style>\n",
              "<table border=\"1\" class=\"dataframe\">\n",
              "  <thead>\n",
              "    <tr style=\"text-align: right;\">\n",
              "      <th></th>\n",
              "      <th>movieId</th>\n",
              "      <th>title</th>\n",
              "      <th>genres</th>\n",
              "      <th>userId</th>\n",
              "      <th>rating</th>\n",
              "      <th>timestamp</th>\n",
              "    </tr>\n",
              "  </thead>\n",
              "  <tbody>\n",
              "  </tbody>\n",
              "</table>\n",
              "</div>\n",
              "    <div class=\"colab-df-buttons\">\n",
              "\n",
              "  <div class=\"colab-df-container\">\n",
              "    <button class=\"colab-df-convert\" onclick=\"convertToInteractive('df-376e905b-5e6a-4688-931d-839b14e6daeb')\"\n",
              "            title=\"Convert this dataframe to an interactive table.\"\n",
              "            style=\"display:none;\">\n",
              "\n",
              "  <svg xmlns=\"http://www.w3.org/2000/svg\" height=\"24px\" viewBox=\"0 -960 960 960\">\n",
              "    <path d=\"M120-120v-720h720v720H120Zm60-500h600v-160H180v160Zm220 220h160v-160H400v160Zm0 220h160v-160H400v160ZM180-400h160v-160H180v160Zm440 0h160v-160H620v160ZM180-180h160v-160H180v160Zm440 0h160v-160H620v160Z\"/>\n",
              "  </svg>\n",
              "    </button>\n",
              "\n",
              "  <style>\n",
              "    .colab-df-container {\n",
              "      display:flex;\n",
              "      gap: 12px;\n",
              "    }\n",
              "\n",
              "    .colab-df-convert {\n",
              "      background-color: #E8F0FE;\n",
              "      border: none;\n",
              "      border-radius: 50%;\n",
              "      cursor: pointer;\n",
              "      display: none;\n",
              "      fill: #1967D2;\n",
              "      height: 32px;\n",
              "      padding: 0 0 0 0;\n",
              "      width: 32px;\n",
              "    }\n",
              "\n",
              "    .colab-df-convert:hover {\n",
              "      background-color: #E2EBFA;\n",
              "      box-shadow: 0px 1px 2px rgba(60, 64, 67, 0.3), 0px 1px 3px 1px rgba(60, 64, 67, 0.15);\n",
              "      fill: #174EA6;\n",
              "    }\n",
              "\n",
              "    .colab-df-buttons div {\n",
              "      margin-bottom: 4px;\n",
              "    }\n",
              "\n",
              "    [theme=dark] .colab-df-convert {\n",
              "      background-color: #3B4455;\n",
              "      fill: #D2E3FC;\n",
              "    }\n",
              "\n",
              "    [theme=dark] .colab-df-convert:hover {\n",
              "      background-color: #434B5C;\n",
              "      box-shadow: 0px 1px 3px 1px rgba(0, 0, 0, 0.15);\n",
              "      filter: drop-shadow(0px 1px 2px rgba(0, 0, 0, 0.3));\n",
              "      fill: #FFFFFF;\n",
              "    }\n",
              "  </style>\n",
              "\n",
              "    <script>\n",
              "      const buttonEl =\n",
              "        document.querySelector('#df-376e905b-5e6a-4688-931d-839b14e6daeb button.colab-df-convert');\n",
              "      buttonEl.style.display =\n",
              "        google.colab.kernel.accessAllowed ? 'block' : 'none';\n",
              "\n",
              "      async function convertToInteractive(key) {\n",
              "        const element = document.querySelector('#df-376e905b-5e6a-4688-931d-839b14e6daeb');\n",
              "        const dataTable =\n",
              "          await google.colab.kernel.invokeFunction('convertToInteractive',\n",
              "                                                    [key], {});\n",
              "        if (!dataTable) return;\n",
              "\n",
              "        const docLinkHtml = 'Like what you see? Visit the ' +\n",
              "          '<a target=\"_blank\" href=https://colab.research.google.com/notebooks/data_table.ipynb>data table notebook</a>'\n",
              "          + ' to learn more about interactive tables.';\n",
              "        element.innerHTML = '';\n",
              "        dataTable['output_type'] = 'display_data';\n",
              "        await google.colab.output.renderOutput(dataTable, element);\n",
              "        const docLink = document.createElement('div');\n",
              "        docLink.innerHTML = docLinkHtml;\n",
              "        element.appendChild(docLink);\n",
              "      }\n",
              "    </script>\n",
              "  </div>\n",
              "\n",
              "\n",
              "  <div id=\"id_488c8935-1445-4f1c-a37c-e885fb6c30ba\">\n",
              "    <style>\n",
              "      .colab-df-generate {\n",
              "        background-color: #E8F0FE;\n",
              "        border: none;\n",
              "        border-radius: 50%;\n",
              "        cursor: pointer;\n",
              "        display: none;\n",
              "        fill: #1967D2;\n",
              "        height: 32px;\n",
              "        padding: 0 0 0 0;\n",
              "        width: 32px;\n",
              "      }\n",
              "\n",
              "      .colab-df-generate:hover {\n",
              "        background-color: #E2EBFA;\n",
              "        box-shadow: 0px 1px 2px rgba(60, 64, 67, 0.3), 0px 1px 3px 1px rgba(60, 64, 67, 0.15);\n",
              "        fill: #174EA6;\n",
              "      }\n",
              "\n",
              "      [theme=dark] .colab-df-generate {\n",
              "        background-color: #3B4455;\n",
              "        fill: #D2E3FC;\n",
              "      }\n",
              "\n",
              "      [theme=dark] .colab-df-generate:hover {\n",
              "        background-color: #434B5C;\n",
              "        box-shadow: 0px 1px 3px 1px rgba(0, 0, 0, 0.15);\n",
              "        filter: drop-shadow(0px 1px 2px rgba(0, 0, 0, 0.3));\n",
              "        fill: #FFFFFF;\n",
              "      }\n",
              "    </style>\n",
              "    <button class=\"colab-df-generate\" onclick=\"generateWithVariable('missing_row')\"\n",
              "            title=\"Generate code using this dataframe.\"\n",
              "            style=\"display:none;\">\n",
              "\n",
              "  <svg xmlns=\"http://www.w3.org/2000/svg\" height=\"24px\"viewBox=\"0 0 24 24\"\n",
              "       width=\"24px\">\n",
              "    <path d=\"M7,19H8.4L18.45,9,17,7.55,7,17.6ZM5,21V16.75L18.45,3.32a2,2,0,0,1,2.83,0l1.4,1.43a1.91,1.91,0,0,1,.58,1.4,1.91,1.91,0,0,1-.58,1.4L9.25,21ZM18.45,9,17,7.55Zm-12,3A5.31,5.31,0,0,0,4.9,8.1,5.31,5.31,0,0,0,1,6.5,5.31,5.31,0,0,0,4.9,4.9,5.31,5.31,0,0,0,6.5,1,5.31,5.31,0,0,0,8.1,4.9,5.31,5.31,0,0,0,12,6.5,5.46,5.46,0,0,0,6.5,12Z\"/>\n",
              "  </svg>\n",
              "    </button>\n",
              "    <script>\n",
              "      (() => {\n",
              "      const buttonEl =\n",
              "        document.querySelector('#id_488c8935-1445-4f1c-a37c-e885fb6c30ba button.colab-df-generate');\n",
              "      buttonEl.style.display =\n",
              "        google.colab.kernel.accessAllowed ? 'block' : 'none';\n",
              "\n",
              "      buttonEl.onclick = () => {\n",
              "        google.colab.notebook.generateWithVariable('missing_row');\n",
              "      }\n",
              "      })();\n",
              "    </script>\n",
              "  </div>\n",
              "\n",
              "    </div>\n",
              "  </div>\n"
            ],
            "application/vnd.google.colaboratory.intrinsic+json": {
              "type": "dataframe",
              "variable_name": "missing_row",
              "repr_error": "Out of range float values are not JSON compliant: nan"
            }
          },
          "metadata": {},
          "execution_count": 8
        }
      ],
      "source": [
        "missing_row = data[data.isnull().any(axis=1)]\n",
        "missing_row"
      ]
    },
    {
      "cell_type": "markdown",
      "source": [
        "**Checking for duplicates**"
      ],
      "metadata": {
        "id": "VxrbauRR_oNl"
      }
    },
    {
      "cell_type": "code",
      "execution_count": null,
      "metadata": {
        "colab": {
          "base_uri": "https://localhost:8080/",
          "height": 458
        },
        "id": "8GBQnnFkNIdT",
        "outputId": "bd0f0221-09cb-4a4e-a420-cb9e4ff1d522"
      },
      "outputs": [
        {
          "output_type": "execute_result",
          "data": {
            "text/plain": [
              "0        False\n",
              "1        False\n",
              "2        False\n",
              "3        False\n",
              "4        False\n",
              "         ...  \n",
              "19563    False\n",
              "19564    False\n",
              "19565    False\n",
              "19566    False\n",
              "19567    False\n",
              "Length: 19568, dtype: bool"
            ],
            "text/html": [
              "<div>\n",
              "<style scoped>\n",
              "    .dataframe tbody tr th:only-of-type {\n",
              "        vertical-align: middle;\n",
              "    }\n",
              "\n",
              "    .dataframe tbody tr th {\n",
              "        vertical-align: top;\n",
              "    }\n",
              "\n",
              "    .dataframe thead th {\n",
              "        text-align: right;\n",
              "    }\n",
              "</style>\n",
              "<table border=\"1\" class=\"dataframe\">\n",
              "  <thead>\n",
              "    <tr style=\"text-align: right;\">\n",
              "      <th></th>\n",
              "      <th>0</th>\n",
              "    </tr>\n",
              "  </thead>\n",
              "  <tbody>\n",
              "    <tr>\n",
              "      <th>0</th>\n",
              "      <td>False</td>\n",
              "    </tr>\n",
              "    <tr>\n",
              "      <th>1</th>\n",
              "      <td>False</td>\n",
              "    </tr>\n",
              "    <tr>\n",
              "      <th>2</th>\n",
              "      <td>False</td>\n",
              "    </tr>\n",
              "    <tr>\n",
              "      <th>3</th>\n",
              "      <td>False</td>\n",
              "    </tr>\n",
              "    <tr>\n",
              "      <th>4</th>\n",
              "      <td>False</td>\n",
              "    </tr>\n",
              "    <tr>\n",
              "      <th>...</th>\n",
              "      <td>...</td>\n",
              "    </tr>\n",
              "    <tr>\n",
              "      <th>19563</th>\n",
              "      <td>False</td>\n",
              "    </tr>\n",
              "    <tr>\n",
              "      <th>19564</th>\n",
              "      <td>False</td>\n",
              "    </tr>\n",
              "    <tr>\n",
              "      <th>19565</th>\n",
              "      <td>False</td>\n",
              "    </tr>\n",
              "    <tr>\n",
              "      <th>19566</th>\n",
              "      <td>False</td>\n",
              "    </tr>\n",
              "    <tr>\n",
              "      <th>19567</th>\n",
              "      <td>False</td>\n",
              "    </tr>\n",
              "  </tbody>\n",
              "</table>\n",
              "<p>19568 rows × 1 columns</p>\n",
              "</div><br><label><b>dtype:</b> bool</label>"
            ]
          },
          "metadata": {},
          "execution_count": 9
        }
      ],
      "source": [
        "duplicates=data.duplicated()\n",
        "duplicates"
      ]
    },
    {
      "cell_type": "code",
      "execution_count": null,
      "metadata": {
        "colab": {
          "base_uri": "https://localhost:8080/",
          "height": 206
        },
        "id": "Z0tNhHxmEALp",
        "outputId": "2b085206-757d-4f00-c282-6f3b549d7fec"
      },
      "outputs": [
        {
          "output_type": "execute_result",
          "data": {
            "text/plain": [
              "   movieId                                             title  \\\n",
              "0     8983  House of Flying Daggers (Shi mian mai fu) (2004)   \n",
              "1     5013                               Gosford Park (2001)   \n",
              "2      318                  Shawshank Redemption, The (1994)   \n",
              "3     1976                 Friday the 13th Part 3: 3D (1982)   \n",
              "4      216                              Billy Madison (1995)   \n",
              "\n",
              "                 genres  userId  rating           timestamp  \n",
              "0  Action|Drama|Romance  113150     4.0 2016-01-20 13:48:10  \n",
              "1  Comedy|Drama|Mystery   44147     4.0 2005-01-31 03:30:34  \n",
              "2           Crime|Drama   15958     4.0 2018-04-12 04:54:13  \n",
              "3                Horror   66855     1.0 2002-02-11 05:39:57  \n",
              "4                Comedy   57640     3.0 2000-11-26 20:42:03  "
            ],
            "text/html": [
              "\n",
              "  <div id=\"df-6d2acd1f-09c9-4cd2-9199-b068a2ddd097\" class=\"colab-df-container\">\n",
              "    <div>\n",
              "<style scoped>\n",
              "    .dataframe tbody tr th:only-of-type {\n",
              "        vertical-align: middle;\n",
              "    }\n",
              "\n",
              "    .dataframe tbody tr th {\n",
              "        vertical-align: top;\n",
              "    }\n",
              "\n",
              "    .dataframe thead th {\n",
              "        text-align: right;\n",
              "    }\n",
              "</style>\n",
              "<table border=\"1\" class=\"dataframe\">\n",
              "  <thead>\n",
              "    <tr style=\"text-align: right;\">\n",
              "      <th></th>\n",
              "      <th>movieId</th>\n",
              "      <th>title</th>\n",
              "      <th>genres</th>\n",
              "      <th>userId</th>\n",
              "      <th>rating</th>\n",
              "      <th>timestamp</th>\n",
              "    </tr>\n",
              "  </thead>\n",
              "  <tbody>\n",
              "    <tr>\n",
              "      <th>0</th>\n",
              "      <td>8983</td>\n",
              "      <td>House of Flying Daggers (Shi mian mai fu) (2004)</td>\n",
              "      <td>Action|Drama|Romance</td>\n",
              "      <td>113150</td>\n",
              "      <td>4.0</td>\n",
              "      <td>2016-01-20 13:48:10</td>\n",
              "    </tr>\n",
              "    <tr>\n",
              "      <th>1</th>\n",
              "      <td>5013</td>\n",
              "      <td>Gosford Park (2001)</td>\n",
              "      <td>Comedy|Drama|Mystery</td>\n",
              "      <td>44147</td>\n",
              "      <td>4.0</td>\n",
              "      <td>2005-01-31 03:30:34</td>\n",
              "    </tr>\n",
              "    <tr>\n",
              "      <th>2</th>\n",
              "      <td>318</td>\n",
              "      <td>Shawshank Redemption, The (1994)</td>\n",
              "      <td>Crime|Drama</td>\n",
              "      <td>15958</td>\n",
              "      <td>4.0</td>\n",
              "      <td>2018-04-12 04:54:13</td>\n",
              "    </tr>\n",
              "    <tr>\n",
              "      <th>3</th>\n",
              "      <td>1976</td>\n",
              "      <td>Friday the 13th Part 3: 3D (1982)</td>\n",
              "      <td>Horror</td>\n",
              "      <td>66855</td>\n",
              "      <td>1.0</td>\n",
              "      <td>2002-02-11 05:39:57</td>\n",
              "    </tr>\n",
              "    <tr>\n",
              "      <th>4</th>\n",
              "      <td>216</td>\n",
              "      <td>Billy Madison (1995)</td>\n",
              "      <td>Comedy</td>\n",
              "      <td>57640</td>\n",
              "      <td>3.0</td>\n",
              "      <td>2000-11-26 20:42:03</td>\n",
              "    </tr>\n",
              "  </tbody>\n",
              "</table>\n",
              "</div>\n",
              "    <div class=\"colab-df-buttons\">\n",
              "\n",
              "  <div class=\"colab-df-container\">\n",
              "    <button class=\"colab-df-convert\" onclick=\"convertToInteractive('df-6d2acd1f-09c9-4cd2-9199-b068a2ddd097')\"\n",
              "            title=\"Convert this dataframe to an interactive table.\"\n",
              "            style=\"display:none;\">\n",
              "\n",
              "  <svg xmlns=\"http://www.w3.org/2000/svg\" height=\"24px\" viewBox=\"0 -960 960 960\">\n",
              "    <path d=\"M120-120v-720h720v720H120Zm60-500h600v-160H180v160Zm220 220h160v-160H400v160Zm0 220h160v-160H400v160ZM180-400h160v-160H180v160Zm440 0h160v-160H620v160ZM180-180h160v-160H180v160Zm440 0h160v-160H620v160Z\"/>\n",
              "  </svg>\n",
              "    </button>\n",
              "\n",
              "  <style>\n",
              "    .colab-df-container {\n",
              "      display:flex;\n",
              "      gap: 12px;\n",
              "    }\n",
              "\n",
              "    .colab-df-convert {\n",
              "      background-color: #E8F0FE;\n",
              "      border: none;\n",
              "      border-radius: 50%;\n",
              "      cursor: pointer;\n",
              "      display: none;\n",
              "      fill: #1967D2;\n",
              "      height: 32px;\n",
              "      padding: 0 0 0 0;\n",
              "      width: 32px;\n",
              "    }\n",
              "\n",
              "    .colab-df-convert:hover {\n",
              "      background-color: #E2EBFA;\n",
              "      box-shadow: 0px 1px 2px rgba(60, 64, 67, 0.3), 0px 1px 3px 1px rgba(60, 64, 67, 0.15);\n",
              "      fill: #174EA6;\n",
              "    }\n",
              "\n",
              "    .colab-df-buttons div {\n",
              "      margin-bottom: 4px;\n",
              "    }\n",
              "\n",
              "    [theme=dark] .colab-df-convert {\n",
              "      background-color: #3B4455;\n",
              "      fill: #D2E3FC;\n",
              "    }\n",
              "\n",
              "    [theme=dark] .colab-df-convert:hover {\n",
              "      background-color: #434B5C;\n",
              "      box-shadow: 0px 1px 3px 1px rgba(0, 0, 0, 0.15);\n",
              "      filter: drop-shadow(0px 1px 2px rgba(0, 0, 0, 0.3));\n",
              "      fill: #FFFFFF;\n",
              "    }\n",
              "  </style>\n",
              "\n",
              "    <script>\n",
              "      const buttonEl =\n",
              "        document.querySelector('#df-6d2acd1f-09c9-4cd2-9199-b068a2ddd097 button.colab-df-convert');\n",
              "      buttonEl.style.display =\n",
              "        google.colab.kernel.accessAllowed ? 'block' : 'none';\n",
              "\n",
              "      async function convertToInteractive(key) {\n",
              "        const element = document.querySelector('#df-6d2acd1f-09c9-4cd2-9199-b068a2ddd097');\n",
              "        const dataTable =\n",
              "          await google.colab.kernel.invokeFunction('convertToInteractive',\n",
              "                                                    [key], {});\n",
              "        if (!dataTable) return;\n",
              "\n",
              "        const docLinkHtml = 'Like what you see? Visit the ' +\n",
              "          '<a target=\"_blank\" href=https://colab.research.google.com/notebooks/data_table.ipynb>data table notebook</a>'\n",
              "          + ' to learn more about interactive tables.';\n",
              "        element.innerHTML = '';\n",
              "        dataTable['output_type'] = 'display_data';\n",
              "        await google.colab.output.renderOutput(dataTable, element);\n",
              "        const docLink = document.createElement('div');\n",
              "        docLink.innerHTML = docLinkHtml;\n",
              "        element.appendChild(docLink);\n",
              "      }\n",
              "    </script>\n",
              "  </div>\n",
              "\n",
              "\n",
              "<div id=\"df-18f951c6-f41e-4294-be04-78cd62af0891\">\n",
              "  <button class=\"colab-df-quickchart\" onclick=\"quickchart('df-18f951c6-f41e-4294-be04-78cd62af0891')\"\n",
              "            title=\"Suggest charts\"\n",
              "            style=\"display:none;\">\n",
              "\n",
              "<svg xmlns=\"http://www.w3.org/2000/svg\" height=\"24px\"viewBox=\"0 0 24 24\"\n",
              "     width=\"24px\">\n",
              "    <g>\n",
              "        <path d=\"M19 3H5c-1.1 0-2 .9-2 2v14c0 1.1.9 2 2 2h14c1.1 0 2-.9 2-2V5c0-1.1-.9-2-2-2zM9 17H7v-7h2v7zm4 0h-2V7h2v10zm4 0h-2v-4h2v4z\"/>\n",
              "    </g>\n",
              "</svg>\n",
              "  </button>\n",
              "\n",
              "<style>\n",
              "  .colab-df-quickchart {\n",
              "      --bg-color: #E8F0FE;\n",
              "      --fill-color: #1967D2;\n",
              "      --hover-bg-color: #E2EBFA;\n",
              "      --hover-fill-color: #174EA6;\n",
              "      --disabled-fill-color: #AAA;\n",
              "      --disabled-bg-color: #DDD;\n",
              "  }\n",
              "\n",
              "  [theme=dark] .colab-df-quickchart {\n",
              "      --bg-color: #3B4455;\n",
              "      --fill-color: #D2E3FC;\n",
              "      --hover-bg-color: #434B5C;\n",
              "      --hover-fill-color: #FFFFFF;\n",
              "      --disabled-bg-color: #3B4455;\n",
              "      --disabled-fill-color: #666;\n",
              "  }\n",
              "\n",
              "  .colab-df-quickchart {\n",
              "    background-color: var(--bg-color);\n",
              "    border: none;\n",
              "    border-radius: 50%;\n",
              "    cursor: pointer;\n",
              "    display: none;\n",
              "    fill: var(--fill-color);\n",
              "    height: 32px;\n",
              "    padding: 0;\n",
              "    width: 32px;\n",
              "  }\n",
              "\n",
              "  .colab-df-quickchart:hover {\n",
              "    background-color: var(--hover-bg-color);\n",
              "    box-shadow: 0 1px 2px rgba(60, 64, 67, 0.3), 0 1px 3px 1px rgba(60, 64, 67, 0.15);\n",
              "    fill: var(--button-hover-fill-color);\n",
              "  }\n",
              "\n",
              "  .colab-df-quickchart-complete:disabled,\n",
              "  .colab-df-quickchart-complete:disabled:hover {\n",
              "    background-color: var(--disabled-bg-color);\n",
              "    fill: var(--disabled-fill-color);\n",
              "    box-shadow: none;\n",
              "  }\n",
              "\n",
              "  .colab-df-spinner {\n",
              "    border: 2px solid var(--fill-color);\n",
              "    border-color: transparent;\n",
              "    border-bottom-color: var(--fill-color);\n",
              "    animation:\n",
              "      spin 1s steps(1) infinite;\n",
              "  }\n",
              "\n",
              "  @keyframes spin {\n",
              "    0% {\n",
              "      border-color: transparent;\n",
              "      border-bottom-color: var(--fill-color);\n",
              "      border-left-color: var(--fill-color);\n",
              "    }\n",
              "    20% {\n",
              "      border-color: transparent;\n",
              "      border-left-color: var(--fill-color);\n",
              "      border-top-color: var(--fill-color);\n",
              "    }\n",
              "    30% {\n",
              "      border-color: transparent;\n",
              "      border-left-color: var(--fill-color);\n",
              "      border-top-color: var(--fill-color);\n",
              "      border-right-color: var(--fill-color);\n",
              "    }\n",
              "    40% {\n",
              "      border-color: transparent;\n",
              "      border-right-color: var(--fill-color);\n",
              "      border-top-color: var(--fill-color);\n",
              "    }\n",
              "    60% {\n",
              "      border-color: transparent;\n",
              "      border-right-color: var(--fill-color);\n",
              "    }\n",
              "    80% {\n",
              "      border-color: transparent;\n",
              "      border-right-color: var(--fill-color);\n",
              "      border-bottom-color: var(--fill-color);\n",
              "    }\n",
              "    90% {\n",
              "      border-color: transparent;\n",
              "      border-bottom-color: var(--fill-color);\n",
              "    }\n",
              "  }\n",
              "</style>\n",
              "\n",
              "  <script>\n",
              "    async function quickchart(key) {\n",
              "      const quickchartButtonEl =\n",
              "        document.querySelector('#' + key + ' button');\n",
              "      quickchartButtonEl.disabled = true;  // To prevent multiple clicks.\n",
              "      quickchartButtonEl.classList.add('colab-df-spinner');\n",
              "      try {\n",
              "        const charts = await google.colab.kernel.invokeFunction(\n",
              "            'suggestCharts', [key], {});\n",
              "      } catch (error) {\n",
              "        console.error('Error during call to suggestCharts:', error);\n",
              "      }\n",
              "      quickchartButtonEl.classList.remove('colab-df-spinner');\n",
              "      quickchartButtonEl.classList.add('colab-df-quickchart-complete');\n",
              "    }\n",
              "    (() => {\n",
              "      let quickchartButtonEl =\n",
              "        document.querySelector('#df-18f951c6-f41e-4294-be04-78cd62af0891 button');\n",
              "      quickchartButtonEl.style.display =\n",
              "        google.colab.kernel.accessAllowed ? 'block' : 'none';\n",
              "    })();\n",
              "  </script>\n",
              "</div>\n",
              "\n",
              "    </div>\n",
              "  </div>\n"
            ],
            "application/vnd.google.colaboratory.intrinsic+json": {
              "type": "dataframe",
              "variable_name": "data",
              "summary": "{\n  \"name\": \"data\",\n  \"rows\": 19568,\n  \"fields\": [\n    {\n      \"column\": \"movieId\",\n      \"properties\": {\n        \"dtype\": \"number\",\n        \"std\": 39288,\n        \"min\": 1,\n        \"max\": 205992,\n        \"num_unique_values\": 5088,\n        \"samples\": [\n          2137,\n          1411,\n          158\n        ],\n        \"semantic_type\": \"\",\n        \"description\": \"\"\n      }\n    },\n    {\n      \"column\": \"title\",\n      \"properties\": {\n        \"dtype\": \"category\",\n        \"num_unique_values\": 5088,\n        \"samples\": [\n          \"Charlotte's Web (1973)\",\n          \"Hamlet (1996)\",\n          \"Casper (1995)\"\n        ],\n        \"semantic_type\": \"\",\n        \"description\": \"\"\n      }\n    },\n    {\n      \"column\": \"genres\",\n      \"properties\": {\n        \"dtype\": \"category\",\n        \"num_unique_values\": 716,\n        \"samples\": [\n          \"Action|Adventure|Drama|Fantasy|Mystery|IMAX\",\n          \"Action|Drama|Thriller|War\",\n          \"Documentary\"\n        ],\n        \"semantic_type\": \"\",\n        \"description\": \"\"\n      }\n    },\n    {\n      \"column\": \"userId\",\n      \"properties\": {\n        \"dtype\": \"number\",\n        \"std\": 46848,\n        \"min\": 2,\n        \"max\": 162534,\n        \"num_unique_values\": 16348,\n        \"samples\": [\n          28678,\n          117114,\n          113135\n        ],\n        \"semantic_type\": \"\",\n        \"description\": \"\"\n      }\n    },\n    {\n      \"column\": \"rating\",\n      \"properties\": {\n        \"dtype\": \"number\",\n        \"std\": 1.0620528325024865,\n        \"min\": 0.5,\n        \"max\": 5.0,\n        \"num_unique_values\": 10,\n        \"samples\": [\n          1.5,\n          1.0,\n          4.5\n        ],\n        \"semantic_type\": \"\",\n        \"description\": \"\"\n      }\n    },\n    {\n      \"column\": \"timestamp\",\n      \"properties\": {\n        \"dtype\": \"date\",\n        \"min\": \"1996-04-01 12:22:09\",\n        \"max\": \"2019-11-18 21:26:00\",\n        \"num_unique_values\": 19550,\n        \"samples\": [\n          \"2000-11-17 23:27:51\",\n          \"2005-04-28 04:48:20\",\n          \"1996-10-26 12:33:16\"\n        ],\n        \"semantic_type\": \"\",\n        \"description\": \"\"\n      }\n    }\n  ]\n}"
            }
          },
          "metadata": {},
          "execution_count": 10
        }
      ],
      "source": [
        "# Convert timestamp to datetime\n",
        "data['timestamp'] = pd.to_datetime(data['timestamp'], unit='s')\n",
        "data.head()"
      ]
    },
    {
      "cell_type": "markdown",
      "source": [
        "# **Data Visualization**"
      ],
      "metadata": {
        "id": "YvzW4E-W_t-g"
      }
    },
    {
      "cell_type": "markdown",
      "source": [
        "**Number of movies per genre**"
      ],
      "metadata": {
        "id": "5S96Bgnk_yvO"
      }
    },
    {
      "cell_type": "code",
      "source": [
        "data['genres'] = data['genres'].str.split('|')\n",
        "all_genres = data['genres'].explode()\n",
        "genre_counts = all_genres.value_counts()\n",
        "\n",
        "plt.figure(figsize=(10, 6))\n",
        "sns.barplot(x=genre_counts.values, y=genre_counts.index, palette='viridis')\n",
        "plt.title('Number of Movies per Genre', fontsize=16)\n",
        "plt.xlabel('Number of Movies', fontsize=14)\n",
        "plt.ylabel('Genres', fontsize=14)\n",
        "plt.grid(True)\n",
        "plt.show()\n"
      ],
      "metadata": {
        "colab": {
          "base_uri": "https://localhost:8080/",
          "height": 678
        },
        "id": "pd1GazRb_Rfk",
        "outputId": "c35916d4-6873-4235-9303-e58f2cde8d02"
      },
      "execution_count": null,
      "outputs": [
        {
          "output_type": "stream",
          "name": "stderr",
          "text": [
            "<ipython-input-11-45a4cab829e3>:6: FutureWarning: \n",
            "\n",
            "Passing `palette` without assigning `hue` is deprecated and will be removed in v0.14.0. Assign the `y` variable to `hue` and set `legend=False` for the same effect.\n",
            "\n",
            "  sns.barplot(x=genre_counts.values, y=genre_counts.index, palette='viridis')\n"
          ]
        },
        {
          "output_type": "display_data",
          "data": {
            "text/plain": [
              "<Figure size 1000x600 with 1 Axes>"
            ],
            "image/png": "[encoded data removed]"
          },
          "metadata": {}
        }
      ]
    },
    {
      "cell_type": "markdown",
      "source": [
        "**Number of movies per each rating**"
      ],
      "metadata": {
        "id": "zZnMg_HyJWux"
      }
    },
    {
      "cell_type": "code",
      "source": [
        "ratings_count = data.groupby('rating')['movieId'].count()\n",
        "\n",
        "plt.figure(figsize=(10, 6))\n",
        "sns.barplot(x=ratings_count.index, y=ratings_count.values, palette='viridis')\n",
        "plt.title('Number of Movies for Each Rating', fontsize=16)\n",
        "plt.xlabel('Rating', fontsize=14)\n",
        "plt.ylabel('Number of Movies', fontsize=14)\n",
        "plt.xticks(rotation=45)\n",
        "plt.grid(True)\n",
        "plt.show()\n"
      ],
      "metadata": {
        "colab": {
          "base_uri": "https://localhost:8080/",
          "height": 690
        },
        "id": "mwvTmVd0J6Fi",
        "outputId": "4f5ff431-eb9a-4e6d-e91c-a04011be80f6"
      },
      "execution_count": null,
      "outputs": [
        {
          "output_type": "stream",
          "name": "stderr",
          "text": [
            "<ipython-input-12-79289a0227db>:4: FutureWarning: \n",
            "\n",
            "Passing `palette` without assigning `hue` is deprecated and will be removed in v0.14.0. Assign the `x` variable to `hue` and set `legend=False` for the same effect.\n",
            "\n",
            "  sns.barplot(x=ratings_count.index, y=ratings_count.values, palette='viridis')\n"
          ]
        },
        {
          "output_type": "display_data",
          "data": {
            "text/plain": [
              "<Figure size 1000x600 with 1 Axes>"
            ],
            "image/png": "[encoded data removed]"
          },
          "metadata": {}
        }
      ]
    },
    {
      "cell_type": "markdown",
      "source": [
        "**Encoding Id's**"
      ],
      "metadata": {
        "id": "XV-7KzIcJoCw"
      }
    },
    {
      "cell_type": "code",
      "source": [
        "# Encode userId and movieId\n",
        "user_enc = LabelEncoder()\n",
        "data['user'] = user_enc.fit_transform(data['userId'].values)\n",
        "movie_enc = LabelEncoder()\n",
        "data['movie'] = movie_enc.fit_transform(data['movieId'].values)"
      ],
      "metadata": {
        "id": "KfOBaZolIBiV"
      },
      "execution_count": null,
      "outputs": []
    },
    {
      "cell_type": "code",
      "source": [
        "# Get the number of unique movies\n",
        "num_movies = data['movie'].nunique()\n",
        "movie_ids = data['movie'].unique()\n",
        "\n",
        "print(f\"Number of unique movies: {num_movies}\")\n",
        "print(f\"Movie IDs: {movie_ids}\")"
      ],
      "metadata": {
        "colab": {
          "base_uri": "https://localhost:8080/"
        },
        "id": "lIV7F9SqIBfL",
        "outputId": "3d225845-a51a-4094-e4ed-564341fa99d0"
      },
      "execution_count": null,
      "outputs": [
        {
          "output_type": "stream",
          "name": "stdout",
          "text": [
            "Number of unique movies: 5088\n",
            "Movie IDs: [3175 2371  215 ... 3028 4258 2390]\n"
          ]
        }
      ]
    },
    {
      "cell_type": "code",
      "source": [
        "# Get the number of unique users\n",
        "num_users = data['user'].nunique()\n",
        "user_ids = data['user'].unique()\n",
        "\n",
        "print(f\"\\nNumber of unique users: {num_users}\")\n",
        "print(f\"User IDs: {user_ids}\")\n"
      ],
      "metadata": {
        "colab": {
          "base_uri": "https://localhost:8080/"
        },
        "id": "DZwzPR0qIBcr",
        "outputId": "11f51857-eb44-4730-b88d-14cb6c1d5917"
      },
      "execution_count": null,
      "outputs": [
        {
          "output_type": "stream",
          "name": "stdout",
          "text": [
            "\n",
            "Number of unique users: 16348\n",
            "User IDs: [11345  4410  1584 ...  6825 13511 10770]\n"
          ]
        }
      ]
    },
    {
      "cell_type": "markdown",
      "source": [
        "## **Collaborative Filtering**"
      ],
      "metadata": {
        "id": "F-m_ev1NJ5SA"
      }
    },
    {
      "cell_type": "markdown",
      "source": [
        "**Interaction Matrix**"
      ],
      "metadata": {
        "id": "wgSmtK2OJi1j"
      }
    },
    {
      "cell_type": "code",
      "execution_count": null,
      "metadata": {
        "id": "-uqj66vhsQkF",
        "colab": {
          "base_uri": "https://localhost:8080/"
        },
        "outputId": "4bbecbc9-7ae6-4f5e-f71d-989df40b37a1"
      },
      "outputs": [
        {
          "output_type": "stream",
          "name": "stdout",
          "text": [
            "movieId  1       2       3       5       6       7       8       9       \\\n",
            "userId                                                                    \n",
            "2           0.0     0.0     0.0     0.0     0.0     0.0     0.0     0.0   \n",
            "9           0.0     0.0     0.0     0.0     0.0     0.0     0.0     0.0   \n",
            "18          0.0     0.0     0.0     0.0     0.0     0.0     0.0     0.0   \n",
            "23          0.0     0.0     0.0     0.0     0.0     0.0     0.0     0.0   \n",
            "43          0.0     0.0     0.0     0.0     0.0     0.0     0.0     0.0   \n",
            "...         ...     ...     ...     ...     ...     ...     ...     ...   \n",
            "162516      0.0     0.0     0.0     0.0     0.0     0.0     0.0     0.0   \n",
            "162521      0.0     0.0     0.0     0.0     0.0     0.0     0.0     0.0   \n",
            "162529      0.0     0.0     0.0     0.0     0.0     0.0     0.0     0.0   \n",
            "162533      0.0     0.0     0.0     0.0     0.0     0.0     0.0     0.0   \n",
            "162534      0.0     0.0     0.0     0.0     0.0     0.0     0.0     0.0   \n",
            "\n",
            "movieId  10      11      ...  202715  203519  203619  203735  204698  204750  \\\n",
            "userId                   ...                                                   \n",
            "2           0.0     0.0  ...     0.0     0.0     0.0     0.0     0.0     0.0   \n",
            "9           0.0     0.0  ...     0.0     0.0     0.0     0.0     0.0     0.0   \n",
            "18          0.0     0.0  ...     0.0     0.0     0.0     0.0     0.0     0.0   \n",
            "23          0.0     0.0  ...     0.0     0.0     0.0     0.0     0.0     0.0   \n",
            "43          0.0     0.0  ...     0.0     0.0     0.0     0.0     0.0     0.0   \n",
            "...         ...     ...  ...     ...     ...     ...     ...     ...     ...   \n",
            "162516      0.0     0.0  ...     0.0     0.0     0.0     0.0     0.0     0.0   \n",
            "162521      0.0     0.0  ...     0.0     0.0     0.0     0.0     0.0     0.0   \n",
            "162529      0.0     0.0  ...     0.0     0.0     0.0     0.0     0.0     0.0   \n",
            "162533      0.0     0.0  ...     0.0     0.0     0.0     0.0     0.0     0.0   \n",
            "162534      0.0     0.0  ...     0.0     0.0     0.0     0.0     0.0     0.0   \n",
            "\n",
            "movieId  204840  205383  205425  205992  \n",
            "userId                                   \n",
            "2           0.0     0.0     0.0     0.0  \n",
            "9           0.0     0.0     0.0     0.0  \n",
            "18          0.0     0.0     0.0     0.0  \n",
            "23          0.0     0.0     0.0     0.0  \n",
            "43          0.0     0.0     0.0     0.0  \n",
            "...         ...     ...     ...     ...  \n",
            "162516      0.0     0.0     0.0     0.0  \n",
            "162521      0.0     0.0     0.0     0.0  \n",
            "162529      0.0     0.0     0.0     0.0  \n",
            "162533      0.0     0.0     0.0     0.0  \n",
            "162534      0.0     0.0     0.0     0.0  \n",
            "\n",
            "[16348 rows x 5088 columns]\n"
          ]
        }
      ],
      "source": [
        "interaction_matrix = data.pivot(index='userId', columns='movieId', values='rating').fillna(0)\n",
        "print(interaction_matrix)"
      ]
    },
    {
      "cell_type": "code",
      "execution_count": null,
      "metadata": {
        "id": "5UmFWpYmQQQb",
        "colab": {
          "base_uri": "https://localhost:8080/"
        },
        "outputId": "319d9fd7-e1cb-46d7-fc19-d2addc82cc15"
      },
      "outputs": [
        {
          "output_type": "stream",
          "name": "stdout",
          "text": [
            "       0      1      2      3      4      5      6      7      8      9      \\\n",
            "0        1.0    0.0    0.0    0.0    0.0    0.0    0.0    0.0    0.0    0.0   \n",
            "1        0.0    1.0    0.0    0.0    0.0    0.0    0.0    0.0    0.0    0.0   \n",
            "2        0.0    0.0    1.0    0.0    0.0    0.0    0.0    0.0    0.0    0.0   \n",
            "3        0.0    0.0    0.0    1.0    0.0    0.0    0.0    0.0    0.0    0.0   \n",
            "4        0.0    0.0    0.0    0.0    1.0    0.0    0.0    0.0    0.0    0.0   \n",
            "...      ...    ...    ...    ...    ...    ...    ...    ...    ...    ...   \n",
            "16343    0.0    0.0    0.0    0.0    0.0    0.0    0.0    0.0    0.0    0.0   \n",
            "16344    0.0    0.0    0.0    0.0    0.0    0.0    0.0    0.0    0.0    0.0   \n",
            "16345    0.0    0.0    0.0    0.0    0.0    0.0    0.0    0.0    0.0    0.0   \n",
            "16346    0.0    0.0    0.0    0.0    0.0    0.0    0.0    0.0    0.0    0.0   \n",
            "16347    0.0    0.0    0.0    0.0    0.0    0.0    0.0    0.0    0.0    0.0   \n",
            "\n",
            "       ...  16338  16339  16340  16341  16342  16343  16344  16345  16346  \\\n",
            "0      ...    0.0    0.0    0.0    0.0    0.0    0.0    0.0    0.0    0.0   \n",
            "1      ...    0.0    0.0    0.0    0.0    0.0    0.0    0.0    0.0    0.0   \n",
            "2      ...    0.0    0.0    0.0    0.0    0.0    0.0    0.0    0.0    0.0   \n",
            "3      ...    0.0    0.0    0.0    0.0    0.0    0.0    0.0    0.0    0.0   \n",
            "4      ...    0.0    0.0    0.0    0.0    0.0    0.0    0.0    0.0    0.0   \n",
            "...    ...    ...    ...    ...    ...    ...    ...    ...    ...    ...   \n",
            "16343  ...    0.0    0.0    0.0    0.0    0.0    1.0    0.0    0.0    0.0   \n",
            "16344  ...    0.0    0.0    0.0    0.0    0.0    0.0    1.0    0.0    0.0   \n",
            "16345  ...    0.0    0.0    0.0    0.0    0.0    0.0    0.0    1.0    0.0   \n",
            "16346  ...    0.0    0.0    0.0    0.0    0.0    0.0    0.0    0.0    1.0   \n",
            "16347  ...    0.0    0.0    0.0    0.0    0.0    0.0    0.0    0.0    0.0   \n",
            "\n",
            "       16347  \n",
            "0        0.0  \n",
            "1        0.0  \n",
            "2        0.0  \n",
            "3        0.0  \n",
            "4        0.0  \n",
            "...      ...  \n",
            "16343    0.0  \n",
            "16344    0.0  \n",
            "16345    0.0  \n",
            "16346    0.0  \n",
            "16347    1.0  \n",
            "\n",
            "[16348 rows x 16348 columns]\n"
          ]
        }
      ],
      "source": [
        "#Calculating cosine similarity\n",
        "cosine_sim = cosine_similarity(interaction_matrix)\n",
        "cosine_sim=pd.DataFrame(cosine_sim)\n",
        "print(cosine_sim)"
      ]
    },
    {
      "cell_type": "markdown",
      "source": [
        "**User based recommendations**"
      ],
      "metadata": {
        "id": "qp6JEimbJzNT"
      }
    },
    {
      "cell_type": "code",
      "execution_count": null,
      "metadata": {
        "collapsed": true,
        "id": "sZGOAd_JQQEg",
        "colab": {
          "base_uri": "https://localhost:8080/"
        },
        "outputId": "2c630311-f227-4fdf-d5a4-7058fbea99a0"
      },
      "outputs": [
        {
          "output_type": "stream",
          "name": "stdout",
          "text": [
            "['Tales from the Crypt Presents: Bordello of Blood (1996)']\n"
          ]
        }
      ],
      "source": [
        "def get_recommendations(userId):\n",
        "    userId = int(userId)\n",
        "    if userId not in user_ids:\n",
        "        print(f\"User {userId} not found in the similarity matrix.\")\n",
        "        return []\n",
        "\n",
        "    index = np.where(user_ids == userId)[0][0]\n",
        "\n",
        "    sim_scores = cosine_sim[index]\n",
        "\n",
        "    similar_users_indices = np.argsort(sim_scores)[::-1]\n",
        "\n",
        "    similar_users = [(user_ids[i], sim_scores[i]) for i in similar_users_indices if i < len(user_ids) and user_ids[i] != userId]\n",
        "\n",
        "    if not similar_users:\n",
        "        print(f\"No similar users found for user {userId}.\")\n",
        "        return []\n",
        "\n",
        "    top_similar_user_id, top_similarity_score = similar_users[0]\n",
        "\n",
        "    recommended_movie_ids = []\n",
        "\n",
        "    if top_similar_user_id in interaction_matrix.index:\n",
        "        rated_movies = interaction_matrix.loc[top_similar_user_id]\n",
        "        rated_movie_ids = rated_movies[rated_movies > 2].index.tolist()\n",
        "\n",
        "        if rated_movie_ids:\n",
        "            recommended_movie_ids.extend(rated_movie_ids)\n",
        "    recommended_movie_ids = list(set(recommended_movie_ids))\n",
        "\n",
        "    if not recommended_movie_ids:\n",
        "        print(f\"No recommendations found for user {userId}.\")\n",
        "        return []\n",
        "\n",
        "    recommended_movie_titles = movies[movies['movieId'].isin(recommended_movie_ids)]['title'].tolist()\n",
        "\n",
        "    return recommended_movie_titles\n",
        "\n",
        "recommended_movie_titles = get_recommendations(44147)\n",
        "\n",
        "print(recommended_movie_titles)\n"
      ]
    },
    {
      "cell_type": "markdown",
      "source": [
        "## **Content-Based Filtering**"
      ],
      "metadata": {
        "id": "MKwNaZspKBjW"
      }
    },
    {
      "cell_type": "code",
      "source": [
        "stemmer = PorterStemmer()\n",
        "\n",
        "def stem_genres(genre_string):\n",
        "    if isinstance(genre_string, str):\n",
        "        genres = genre_string.split('|')\n",
        "    elif isinstance(genre_string, list):\n",
        "        genres = genre_string\n",
        "    else:\n",
        "        return ''\n",
        "\n",
        "    stemmed_genres = [stemmer.stem(genre.lower()) for genre in genres]\n",
        "    return '|'.join(stemmed_genres)\n",
        "\n",
        "data['stemmed_genres'] = data['genres'].apply(stem_genres)\n",
        "\n",
        "print(data[['genres', 'stemmed_genres']])\n"
      ],
      "metadata": {
        "id": "A8XgawmbNG-n",
        "colab": {
          "base_uri": "https://localhost:8080/"
        },
        "outputId": "035bdc9a-16b4-4a94-8673-9f2379533f52"
      },
      "execution_count": null,
      "outputs": [
        {
          "output_type": "stream",
          "name": "stdout",
          "text": [
            "                             genres           stemmed_genres\n",
            "0          [Action, Drama, Romance]      action|drama|romanc\n",
            "1          [Comedy, Drama, Mystery]     comedi|drama|mysteri\n",
            "2                    [Crime, Drama]              crime|drama\n",
            "3                          [Horror]                   horror\n",
            "4                          [Comedy]                   comedi\n",
            "...                             ...                      ...\n",
            "19563     [Action, Comedy, Romance]     action|comedi|romanc\n",
            "19564              [Horror, Sci-Fi]            horror|sci-fi\n",
            "19565                      [Comedy]                   comedi\n",
            "19566  [Action, Adventure, Fantasy]  action|adventur|fantasi\n",
            "19567            [Horror, Thriller]          horror|thriller\n",
            "\n",
            "[19568 rows x 2 columns]\n"
          ]
        }
      ]
    },
    {
      "cell_type": "code",
      "source": [
        "# Create TF-IDF matrix\n",
        "tfidf = TfidfVectorizer(max_features=1000)\n",
        "tfidf_matrix = tfidf.fit_transform(data['stemmed_genres'])"
      ],
      "metadata": {
        "id": "2jahDBa3NG7M"
      },
      "execution_count": null,
      "outputs": []
    },
    {
      "cell_type": "code",
      "source": [
        "# Compute cosine similarity\n",
        "cosine_sim = cosine_similarity(tfidf_matrix, tfidf_matrix)"
      ],
      "metadata": {
        "id": "6UqxyPDTNG0U"
      },
      "execution_count": null,
      "outputs": []
    },
    {
      "cell_type": "markdown",
      "source": [
        "**Movie based recommendations**"
      ],
      "metadata": {
        "id": "bOnyULl4KLAB"
      }
    },
    {
      "cell_type": "code",
      "source": [
        "def get_recommendations(title):\n",
        "    title = title.strip()\n",
        "\n",
        "    if title not in data['title'].values:\n",
        "        return f\"Movie '{title}' not found in the dataset.\"\n",
        "\n",
        "    idx = data[data['title'] == title].index[0]\n",
        "\n",
        "    if idx < 0 or idx >= cosine_sim.shape[0]:\n",
        "        return f\"Index {idx} is out of bounds for the cosine similarity matrix.\"\n",
        "\n",
        "    sim_scores = list(enumerate(cosine_sim[idx]))\n",
        "\n",
        "    sim_scores = sorted(sim_scores, key=lambda x: x[1], reverse=True)\n",
        "\n",
        "    sim_scores = sim_scores[1:3]\n",
        "\n",
        "    movie_indices = [i[0] for i in sim_scores]\n",
        "\n",
        "    recommended_titles = data['title'].iloc[movie_indices].tolist()\n",
        "    return recommended_titles\n",
        "\n",
        "print(get_recommendations('Minority Report (2002)'))\n"
      ],
      "metadata": {
        "id": "GDd2jm9lNNg9",
        "colab": {
          "base_uri": "https://localhost:8080/"
        },
        "outputId": "8e452edb-1320-4a99-c357-90fabd239a49"
      },
      "execution_count": null,
      "outputs": [
        {
          "output_type": "stream",
          "name": "stdout",
          "text": [
            "['Minority Report (2002)', 'Minority Report (2002)']\n"
          ]
        }
      ]
    },
    {
      "cell_type": "markdown",
      "source": [
        "**Genre based recommendations**"
      ],
      "metadata": {
        "id": "JTsQ5LkaKO2B"
      }
    },
    {
      "cell_type": "code",
      "source": [
        "def get_recommendations_by_genre(input_genre):\n",
        "    stemmed_input_genre = stem_genres(input_genre)\n",
        "\n",
        "    input_tfidf = tfidf.transform([stemmed_input_genre])\n",
        "\n",
        "    sim_scores = cosine_similarity(input_tfidf, tfidf_matrix)\n",
        "\n",
        "    sim_scores = list(enumerate(sim_scores[0]))\n",
        "    sim_scores = sorted(sim_scores, key=lambda x: x[1], reverse=True)\n",
        "\n",
        "    movie_indices = [i[0] for i in sim_scores[1:4]]\n",
        "\n",
        "    recommended_titles = data['title'].iloc[movie_indices].tolist()\n",
        "    return recommended_titles\n",
        "\n",
        "print(get_recommendations_by_genre('Action|Sci-Fi'))"
      ],
      "metadata": {
        "id": "Yj_l9HXzNNdl",
        "colab": {
          "base_uri": "https://localhost:8080/"
        },
        "outputId": "0dc7c17e-c6c6-4b47-98cd-cfe4aa58b98e"
      },
      "execution_count": null,
      "outputs": [
        {
          "output_type": "stream",
          "name": "stdout",
          "text": [
            "['Universal Soldier (1992)', 'Starship Troopers (1997)', 'Universal Soldier (1992)']\n"
          ]
        }
      ]
    },
    {
      "cell_type": "code",
      "source": [
        "#saving data\n",
        "with open('data.pkl', 'wb') as f:\n",
        "    pickle.dump(data, f)"
      ],
      "metadata": {
        "id": "xC6NjxAb5KGf"
      },
      "execution_count": null,
      "outputs": []
    },
    {
      "cell_type": "code",
      "source": [
        "# Save the TF-IDF model\n",
        "with open('tfidf.pkl', 'wb') as f:\n",
        "    pickle.dump(tfidf, f)"
      ],
      "metadata": {
        "id": "qm4jb_9p8T1H"
      },
      "execution_count": null,
      "outputs": []
    },
    {
      "cell_type": "code",
      "source": [
        "#Save the TF-IDF matrix\n",
        "with open('tfidf_matrix.pkl', 'wb') as f:\n",
        "    pickle.dump(tfidf_matrix, f)"
      ],
      "metadata": {
        "id": "Q7eP1gTx8Txu"
      },
      "execution_count": null,
      "outputs": []
    },
    {
      "cell_type": "code",
      "source": [
        "#saving required function\n",
        "with open('recommendations.py', 'w') as f:\n",
        "    f.write(\"\"\"\n",
        "    # Function to get recommendations based on a given genre\n",
        "def get_recommendations_by_genre(input_genre):\n",
        "    # Stem the input genre\n",
        "    stemmed_input_genre = stem_text(input_genre)\n",
        "\n",
        "    # Create a TF-IDF vector for the input genre\n",
        "    input_tfidf = tfidf.transform([stemmed_input_genre])\n",
        "\n",
        "    # Compute cosine similarity of input genre with the existing movies\n",
        "    sim_scores = cosine_similarity(input_tfidf, tfidf_matrix)\n",
        "\n",
        "    # Sort the movies based on the similarity scores\n",
        "    sim_scores = list(enumerate(sim_scores[0]))\n",
        "    sim_scores = sorted(sim_scores, key=lambda x: x[1], reverse=True)\n",
        "\n",
        "    # Get the indices of the top 3 most similar movies\n",
        "    movie_indices = [i[0] for i in sim_scores[1:4]]  # Exclude the first one (itself)\n",
        "\n",
        "    # Return the top similar movies\n",
        "    return data['title'].iloc[movie_indices]\n",
        "\n",
        "# Example of getting recommendations for a specific genre\n",
        "print(get_recommendations_by_genre('Action|Sci-Fi'))\"\"\")\n"
      ],
      "metadata": {
        "id": "oDElhc0u8Tu5"
      },
      "execution_count": null,
      "outputs": []
    },
    {
      "cell_type": "code",
      "source": [
        "from google.colab import files\n",
        "files.download('recommendations.py')"
      ],
      "metadata": {
        "colab": {
          "base_uri": "https://localhost:8080/",
          "height": 17
        },
        "id": "Pnx2e5KvyBto",
        "outputId": "e6fd7d52-3655-4312-8f29-b62ddb924646"
      },
      "execution_count": null,
      "outputs": [
        {
          "output_type": "display_data",
          "data": {
            "text/plain": [
              "<IPython.core.display.Javascript object>"
            ],
            "application/javascript": [
              "\n",
              "    async function download(id, filename, size) {\n",
              "      if (!google.colab.kernel.accessAllowed) {\n",
              "        return;\n",
              "      }\n",
              "      const div = document.createElement('div');\n",
              "      const label = document.createElement('label');\n",
              "      label.textContent = `Downloading \"${filename}\": `;\n",
              "      div.appendChild(label);\n",
              "      const progress = document.createElement('progress');\n",
              "      progress.max = size;\n",
              "      div.appendChild(progress);\n",
              "      document.body.appendChild(div);\n",
              "\n",
              "      const buffers = [];\n",
              "      let downloaded = 0;\n",
              "\n",
              "      const channel = await google.colab.kernel.comms.open(id);\n",
              "      // Send a message to notify the kernel that we're ready.\n",
              "      channel.send({})\n",
              "\n",
              "      for await (const message of channel.messages) {\n",
              "        // Send a message to notify the kernel that we're ready.\n",
              "        channel.send({})\n",
              "        if (message.buffers) {\n",
              "          for (const buffer of message.buffers) {\n",
              "            buffers.push(buffer);\n",
              "            downloaded += buffer.byteLength;\n",
              "            progress.value = downloaded;\n",
              "          }\n",
              "        }\n",
              "      }\n",
              "      const blob = new Blob(buffers, {type: 'application/binary'});\n",
              "      const a = document.createElement('a');\n",
              "      a.href = window.URL.createObjectURL(blob);\n",
              "      a.download = filename;\n",
              "      div.appendChild(a);\n",
              "      a.click();\n",
              "      div.remove();\n",
              "    }\n",
              "  "
            ]
          },
          "metadata": {}
        },
        {
          "output_type": "display_data",
          "data": {
            "text/plain": [
              "<IPython.core.display.Javascript object>"
            ],
            "application/javascript": [
              "download(\"download_943faf89-e2c2-464d-ab2d-9b9b9a29025e\", \"recommendations.py\", 934)"
            ]
          },
          "metadata": {}
        }
      ]
    }
  ],
  "metadata": {
    "colab": {
      "provenance": [],
      "gpuType": "T4"
    },
    "kernelspec": {
      "display_name": "Python 3",
      "name": "python3"
    },
    "language_info": {
      "name": "python"
    },
    "accelerator": "GPU"
  },
  "nbformat": 4,
  "nbformat_minor": 0
}